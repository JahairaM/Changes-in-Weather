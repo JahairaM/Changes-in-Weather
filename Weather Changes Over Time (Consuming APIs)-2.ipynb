{
 "cells": [
  {
   "cell_type": "markdown",
   "id": "ec7397bf",
   "metadata": {
    "id": "ec7397bf"
   },
   "source": [
    "# Weather Changes Over Time (Consuming APIs)\n",
    "\n",
    "## Task\n",
    "Utilize the following two APIs to evaluate the changes in temperature for your birthday and city you were born in:\n",
    "* [geocode.xyz](geocode.xyz)\n",
    "* [open-meteo.com](open-meteo.com)\n"
   ]
  },
  {
   "cell_type": "code",
   "execution_count": 1,
   "id": "b25836d9",
   "metadata": {
    "ExecuteTime": {
     "end_time": "2023-02-28T00:37:36.649033Z",
     "start_time": "2023-02-28T00:37:35.420371Z"
    },
    "id": "b25836d9"
   },
   "outputs": [],
   "source": [
    "from datetime import date, datetime, timedelta\n",
    "\n",
    "import requests\n",
    "import pandas as pd\n",
    "import numpy as np\n",
    "\n",
    "import seaborn as sns\n",
    "from matplotlib import pyplot as plt\n",
    "from matplotlib.ticker import FormatStrFormatter\n",
    "\n",
    "%matplotlib inline\n",
    "\n",
    "sns.set_palette('muted')\n",
    "sns.set_style('white')"
   ]
  },
  {
   "cell_type": "markdown",
   "id": "cd30d0c3",
   "metadata": {
    "ExecuteTime": {
     "end_time": "2023-02-27T20:30:03.112450Z",
     "start_time": "2023-02-27T20:30:03.106139Z"
    },
    "id": "cd30d0c3"
   },
   "source": [
    "## Question 1: Geocoding A Location\n",
    "\n",
    "> Indented block\n",
    "\n",
    "\n",
    "Write a function that utilizes the [geocode.xyz](geocode.xyz) API to take in a city and country and return the latitude and longitude of that location\n",
    "\n",
    "```\n",
    "def geocode_location(city, country):\n",
    "    # your code\n",
    "    return latitude, longitude\n",
    "```\n",
    "\n",
    "For example:\n",
    "```\n",
    "geocode_location(\"london\", \"united kingdom\")\n",
    "```\n",
    "should return\n",
    "```\n",
    "(51.49742, -0.11534)\n",
    "```"
   ]
  },
  {
   "cell_type": "code",
   "execution_count": 2,
   "id": "e70660d3",
   "metadata": {
    "ExecuteTime": {
     "end_time": "2023-02-27T22:31:12.769895Z",
     "start_time": "2023-02-27T22:31:12.752767Z"
    },
    "id": "e70660d3"
   },
   "outputs": [],
   "source": [
    "# write your solution here\n",
    "def geocode_location(city,country):\n",
    "    url = f\"http://geocode.xyz/{city},{country}?json=1\"\n",
    "    response = requests.get(url).json()\n",
    "    latitude = response['latt']\n",
    "    longitude = response ['longt']\n",
    "    return latitude, longitude"
   ]
  },
  {
   "cell_type": "code",
   "execution_count": 3,
   "id": "ee982b20-c375-453b-8ff1-f6c3944c8d92",
   "metadata": {},
   "outputs": [
    {
     "data": {
      "text/plain": [
       "('42.38822', '-83.10357')"
      ]
     },
     "execution_count": 3,
     "metadata": {},
     "output_type": "execute_result"
    }
   ],
   "source": [
    "geocode_location(\"Detroit\", \"United States\")"
   ]
  },
  {
   "cell_type": "markdown",
   "id": "2f15ce09",
   "metadata": {
    "id": "2f15ce09"
   },
   "source": [
    "## Question 2: Determining Weather Using Date and Location\n",
    "Write a function that utilizes the [open-meteo.com](https://open-meteo.com/) API to take in a date and location and return the 15-day average high and low for the following measurements from the years 1960 to 2022:\n",
    "* `precipitation_sum` (mm): Sum of daily precipitation (including rain, showers and snowfall)\n",
    "* `temperature_2m_max` (°F): Maximum daily air temperature at 2 meters above ground\n",
    "* `temperature_2m_min` (°F): Minimum daily air temperature at 2 meters above ground\n",
    "* `apparent_temperature_max` (°F): Maximum daily apparent temperature\n",
    "* `apparent_temperature_min` (°F): Min daily apparent temperature\n",
    "\n",
    "The function should return the above measurements in a dictionary object with the keys being `\"precipitation_sum\"`, `\"temperature_2m_max\"`, etc. and the values being the 15-day average of the measurements. The 15-day average should be the 7 days preceeding the input date, the input date, and the 7 days following the input date. This will give the results more statistical validity by increasing the number of samples for each measurement.\n",
    "\n",
    "The `get_historical_weather_measurements()` function will include a few different sub-tasks:\n",
    "\n",
    "### Create API Request in Postman/Insomnia\n",
    "Use the following [API Documentation](https://open-meteo.com/en/docs/historical-weather-api#api-documentation) page to create an API request that responds with a JSON object of the measurements listed above. Make sure the response object meets the following:\n",
    "* Temperatue measurements are in Fahrenheit\n",
    "* Precipitation measurements are in inches\n",
    "* Measurements are daily aggregations\n",
    "* 15 day range of weather\n",
    "* JSON format\n",
    "\n",
    "Before writing any code, use Postman/Insomnia to create the API request and take a screenshot of the request/response.\n",
    "\n",
    "#### HINT: How to insert a screenshot\n",
    "1. Take a screenshot and save it to a file.\n",
    "2. Create a markdown cell in your notebook.\n",
    "3. Insert the image into the markdown cell.\n",
    "  * Option 1: Drag the image file into the markdown cell. This embeds the image data directly into your Jupyter notebook.\n",
    "  * Option 2: Move the file into the directory with your notebook file (inside the project folder that you will submit). Add markdown to insert the image: `![alternative text](path-to-image)`\n",
    "\n",
    "### Create API Request Function\n",
    "Convert the request above into a function. The function should take in `latitude`, `longitude`, and `date` as its arguments and return the API response, if successful.\n",
    "\n",
    "```\n",
    "def get_api_response(latitude, longitude, date):\n",
    "    # your code\n",
    "\n",
    "```\n",
    "\n",
    "Use the helper function below for creating a 15-day date range"
   ]
  },
  {
   "cell_type": "code",
   "execution_count": 4,
   "id": "847c1b60",
   "metadata": {
    "ExecuteTime": {
     "end_time": "2023-02-28T00:37:52.984619Z",
     "start_time": "2023-02-28T00:37:52.975626Z"
    },
    "id": "847c1b60"
   },
   "outputs": [
    {
     "name": "stdout",
     "output_type": "stream",
     "text": [
      "{'start_date': '1998-09-01', 'end_date': '1998-09-15'}\n"
     ]
    }
   ],
   "source": [
    "# helper function for 15-day date range\n",
    "def get_date_range(birthday):\n",
    "    start_date = (birthday - timedelta(days=7)).strftime(\"%Y-%m-%d\")\n",
    "    end_date = (birthday + timedelta(days=7)).strftime(\"%Y-%m-%d\")\n",
    "    return {\"start_date\": start_date, \"end_date\": end_date}\n",
    "\n",
    "# Example usage\n",
    "birthday = datetime.strptime(\"1998-09-08\", \"%Y-%m-%d\")\n",
    "print(get_date_range(birthday))"
   ]
  },
  {
   "cell_type": "code",
   "execution_count": 5,
   "id": "fec1e201",
   "metadata": {
    "ExecuteTime": {
     "end_time": "2023-02-28T00:37:55.391271Z",
     "start_time": "2023-02-28T00:37:55.379302Z"
    },
    "id": "fec1e201"
   },
   "outputs": [
    {
     "name": "stdout",
     "output_type": "stream",
     "text": [
      "{'latitude': 42.355007, 'longitude': -83.13785, 'generationtime_ms': 0.18596649169921875, 'utc_offset_seconds': -18000, 'timezone': 'America/Detroit', 'timezone_abbreviation': 'EST', 'elevation': 199.0, 'daily_units': {'time': 'iso8601', 'precipitation_sum': 'inch', 'temperature_2m_max': '°F', 'temperature_2m_min': '°F', 'apparent_temperature_max': '°F', 'apparent_temperature_min': '°F'}, 'daily': {'time': ['1998-09-01', '1998-09-02', '1998-09-03', '1998-09-04', '1998-09-05', '1998-09-06', '1998-09-07', '1998-09-08', '1998-09-09', '1998-09-10', '1998-09-11', '1998-09-12', '1998-09-13', '1998-09-14', '1998-09-15'], 'precipitation_sum': [0.004, 0.126, 0.0, 0.0, 0.0, 0.0, 0.362, 0.0, 0.0, 0.0, 0.0, 0.0, 0.0, 0.0, 0.323], 'temperature_2m_max': [76.2, 74.0, 75.3, 76.0, 82.5, 90.5, 77.1, 65.0, 67.4, 73.9, 84.1, 86.1, 85.1, 82.6, 79.1], 'temperature_2m_min': [60.0, 61.5, 56.5, 58.5, 58.2, 68.5, 62.3, 55.0, 54.4, 50.1, 59.3, 62.6, 62.7, 66.7, 70.6], 'apparent_temperature_max': [75.1, 69.4, 72.3, 75.5, 81.0, 93.7, 81.7, 58.7, 62.7, 71.2, 80.5, 88.5, 88.6, 83.7, 80.8], 'apparent_temperature_min': [61.4, 59.4, 55.4, 57.7, 58.1, 67.0, 55.9, 48.9, 48.9, 47.7, 56.2, 60.1, 65.6, 69.9, 70.6]}}\n"
     ]
    }
   ],
   "source": [
    "# write your solution here\n",
    "def get_api_response(latitude, longitude, date):\n",
    "    date_obj = datetime.strptime(date, \"%Y-%m-%d\")\n",
    "    date_range = get_date_range(date_obj)\n",
    "    base_url = \"https://archive-api.open-meteo.com/v1/archive\"\n",
    "    params = {\n",
    "        \"latitude\": latitude,\n",
    "        \"longitude\": longitude,\n",
    "        \"start_date\": date_range[\"start_date\"],\n",
    "        \"end_date\": date_range[\"end_date\"],\n",
    "        \"daily\": [\n",
    "            \"precipitation_sum\",\n",
    "            \"temperature_2m_max\",\n",
    "            \"temperature_2m_min\",\n",
    "            \"apparent_temperature_max\",\n",
    "            \"apparent_temperature_min\",\n",
    "        ],\n",
    "        \"temperature_unit\": \"fahrenheit\",\n",
    "        \"precipitation_unit\": \"inch\",\n",
    "        \"timezone\": \"auto\",\n",
    "    }\n",
    "    response = requests.get(base_url, params=params)\n",
    "    if response.status_code == 200:\n",
    "        return response.json()\n",
    "    else:\n",
    "        # Handle errors gracefully\n",
    "        raise Exception(f\"API request failed with status code {response.status_code}: {response.text}\")\n",
    "        \n",
    "latitude = 42.38822 \n",
    "longitude = -83.10357 \n",
    "date = \"1998-09-08\"\n",
    "\n",
    "try:\n",
    "    weather_data = get_api_response(latitude, longitude, date)\n",
    "    print(weather_data)\n",
    "except Exception as e:\n",
    "    print(str(e))\n",
    "\n",
    "    pass # remove this line once you start adding code to your function"
   ]
  },
  {
   "cell_type": "markdown",
   "id": "e1a83014",
   "metadata": {
    "id": "e1a83014"
   },
   "source": [
    "### Iterating Over Each Year\n",
    "def get_all_response_objects(latitude, longitude, date, start_year, end_year):\n",
    "    \"\"\"\n",
    "    Fetch historical weather data for each year in the range from start_year to end_year.\n",
    "    Args:\n",
    "        latitude (float): Latitude of the location.\n",
    "        longitude (float): Longitude of the location.\n",
    "        date (str): The target date in MM-DD format.\n",
    "        start_year (int): The starting year for iteration.\n",
    "        end_year (int): The ending year for iteration.\n",
    "    Returns:\n",
    "        list: A list of JSON response objects containing weather data for each year.\n",
    "    \"\"\"\n",
    "    responses = []  # To store the response objects\n",
    "    for year in range(start_year, end_year + 1):\n",
    "        # Generate the full date for the year\n",
    "        full_date = f\"{year}-{date}\"\n",
    "        try:\n",
    "            # Fetch the API response for the specific year\n",
    "            response = get_api_response(latitude, longitude, full_date)\n",
    "            responses.append(response)\n",
    "        except Exception as e:\n",
    "            print(f\"Error fetching data for {year}: {e}\")\n",
    "    \n",
    "    return responses\n",
    "\n",
    "# Example usage\n",
    "latitude = 42.3314  # Latitude for Detroit, MI\n",
    "longitude = -83.0458  # Longitude for Detroit, MI\n",
    "date = \"07-15\"  # MM-DD format\n",
    "start_year = 1960\n",
    "end_year = 2022\n",
    "\n",
    "# Fetch all response objects\n",
    "all_responses = get_all_response_objects(latitude, longitude, date, start_year, end_year)\n",
    "print(f\"Fetched data for {len(all_responses)} years\")\n",
    "\n",
    "\n"
   ]
  },
  {
   "cell_type": "code",
   "execution_count": 6,
   "id": "0f7dd9ff",
   "metadata": {
    "ExecuteTime": {
     "end_time": "2023-02-28T00:37:55.921045Z",
     "start_time": "2023-02-28T00:37:55.917896Z"
    },
    "id": "0f7dd9ff"
   },
   "outputs": [
    {
     "name": "stdout",
     "output_type": "stream",
     "text": [
      "Fetched data for 63 years\n"
     ]
    }
   ],
   "source": [
    "# write your solution here\n",
    "def get_all_response_objects(latitude, longitude, date):\n",
    "\n",
    "    start_year = 1960\n",
    "    end_year = 2022\n",
    "    responses = []  # To store the response objects\n",
    "    \n",
    "    for year in range(start_year, end_year + 1):\n",
    "        full_date = f\"{year}-{date}\"\n",
    "        try:\n",
    "            response = get_api_response(latitude, longitude, full_date)\n",
    "            responses.append(response)\n",
    "        except Exception as e:\n",
    "            print(f\"Error fetching data for {year}: {e}\")\n",
    "    \n",
    "    return responses\n",
    "\n",
    "\n",
    "latitude = 42.3314  \n",
    "longitude = -83.0458 \n",
    "date = \"09-08\"  \n",
    "\n",
    "all_responses = get_all_response_objects(latitude, longitude, date)\n",
    "\n",
    "print(f\"Fetched data for {len(all_responses)} years\")\n"
   ]
  },
  {
   "cell_type": "markdown",
   "id": "dd77748a",
   "metadata": {
    "id": "dd77748a"
   },
   "source": [
    "### Parse JSON Responses & Aggregate Data\n",
    "Write a function that takes the list of JSON response objects from the previous function in as a parameter and returns a pandas DataFrame containing the original input date, the measurements, and the average across the 15 days.\n",
    "```\n",
    "def parse_json_response(responses):\n",
    "    # your code\n",
    "```\n"
   ]
  },
  {
   "cell_type": "code",
   "execution_count": 7,
   "id": "756e607e",
   "metadata": {
    "ExecuteTime": {
     "end_time": "2023-02-28T00:58:30.331208Z",
     "start_time": "2023-02-28T00:58:30.320011Z"
    },
    "id": "756e607e"
   },
   "outputs": [],
   "source": [
    "import pandas as pd\n",
    "\n",
    "def parse_json_response(responses):\n",
    "    \"\"\"\n",
    "    Parse the list of JSON response objects and return a DataFrame with averages for each measurement.\n",
    "    Args:\n",
    "        responses (list): List of JSON response objects from the API.\n",
    "    Returns:\n",
    "        pandas.DataFrame: A DataFrame with the input date and averages for the measurements.\n",
    "    \"\"\"\n",
    "    # Initialize an empty list to hold the parsed data\n",
    "    data = []\n",
    "\n",
    "    # Iterate through each response\n",
    "    for response in responses:\n",
    "        try:\n",
    "            # Extract daily data\n",
    "            daily_data = response.get(\"daily\", {})\n",
    "            \n",
    "            # Extract measurements\n",
    "            dates = daily_data.get(\"time\", [])\n",
    "            precipitation = daily_data.get(\"precipitation_sum\", [])\n",
    "            temp_max = daily_data.get(\"temperature_2m_max\", [])\n",
    "            temp_min = daily_data.get(\"temperature_2m_min\", [])\n",
    "            apparent_temp_max = daily_data.get(\"apparent_temperature_max\", [])\n",
    "            apparent_temp_min = daily_data.get(\"apparent_temperature_min\", [])\n",
    "            \n",
    "            # Verify data lengths match\n",
    "            if len(dates) == len(precipitation) == len(temp_max) == len(temp_min) == len(apparent_temp_max) == len(apparent_temp_min):\n",
    "    \n",
    "                for i in range(len(dates)):\n",
    "                    data.append({\n",
    "                        \"date\": dates[i],\n",
    "                        \"precipitation_sum\": precipitation[i],\n",
    "                        \"temperature_2m_max\": temp_max[i],\n",
    "                        \"temperature_2m_min\": temp_min[i],\n",
    "                        \"apparent_temperature_max\": apparent_temp_max[i],\n",
    "                        \"apparent_temperature_min\": apparent_temp_min[i],\n",
    "                    })\n",
    "            else:\n",
    "                print(f\"Data length mismatch in response: {response}\")\n",
    "        except Exception as e:\n",
    "            print(f\"Error parsing response: {e}\")\n",
    "    \n",
    "    df = pd.DataFrame(data)\n",
    "\n",
    "    result = {\n",
    "        \"precipitation_sum_avg\": df[\"precipitation_sum\"].mean(),\n",
    "        \"temperature_2m_max_avg\": df[\"temperature_2m_max\"].mean(),\n",
    "        \"temperature_2m_min_avg\": df[\"temperature_2m_min\"].mean(),\n",
    "        \"apparent_temperature_max_avg\": df[\"apparent_temperature_max\"].mean(),\n",
    "        \"apparent_temperature_min_avg\": df[\"apparent_temperature_min\"].mean(),\n",
    "    }\n",
    "\n",
    "    avg_df = pd.DataFrame([result])\n",
    "\n",
    "    return avg_df\n",
    "\n",
    "    "
   ]
  },
  {
   "cell_type": "code",
   "execution_count": 8,
   "id": "6dde658d-0b55-45d8-8b2d-c995764801b3",
   "metadata": {},
   "outputs": [
    {
     "name": "stdout",
     "output_type": "stream",
     "text": [
      "   precipitation_sum_avg  temperature_2m_max_avg  temperature_2m_min_avg  \\\n",
      "0               0.081961               74.991323               61.268889   \n",
      "\n",
      "   apparent_temperature_max_avg  apparent_temperature_min_avg  \n",
      "0                     75.033016                     60.054603  \n"
     ]
    }
   ],
   "source": [
    "df = parse_json_response(all_responses)\n",
    "\n",
    "print(df)\n"
   ]
  },
  {
   "cell_type": "markdown",
   "id": "e96e3981",
   "metadata": {
    "id": "e96e3981"
   },
   "source": [
    "### Combining the Functions\n",
    "Write a function that combines all the above functions into one, where the user inputs their birthday and location and the function returns the pandas DataFrame containing the summary of measurements.\n",
    "\n",
    "```\n",
    "def get_data():\n",
    "    birthday = get_user_birthday()\n",
    "    location = get_user_city_of_birth()\n",
    "    # your code here\n",
    "```\n",
    "\n",
    "The helper functions below can be used for birthday and location input information:"
   ]
  },
  {
   "cell_type": "code",
   "execution_count": 9,
   "id": "554d19ad",
   "metadata": {
    "ExecuteTime": {
     "end_time": "2023-02-28T00:37:56.448620Z",
     "start_time": "2023-02-28T00:37:56.443554Z"
    },
    "id": "554d19ad"
   },
   "outputs": [],
   "source": [
    "def get_user_birthday():\n",
    "    while True:\n",
    "        birthday = input(\"Enter your birthday (MM-DD): \")\n",
    "        try:\n",
    "            # Validate the format\n",
    "            datetime.strptime(birthday, \"%m-%d\")\n",
    "            return birthday\n",
    "        except ValueError:\n",
    "            print(\"Invalid format. Please enter in MM-DD format (e.g., 07-15).\")\n",
    "\n",
    "def get_user_city_of_birth():\n",
    "    city = input(\"Enter your city of birth: \").strip()\n",
    "    country = input(\"Enter your country of birth: \").strip()\n",
    "    return city, country\n"
   ]
  },
  {
   "cell_type": "code",
   "execution_count": null,
   "id": "a7cd8c53",
   "metadata": {
    "ExecuteTime": {
     "end_time": "2023-02-28T00:37:56.588922Z",
     "start_time": "2023-02-28T00:37:56.585684Z"
    },
    "id": "a7cd8c53"
   },
   "outputs": [],
   "source": [
    "def get_data():\n",
    "    birthday = get_user_birthday()\n",
    "    city, country = get_user_city_of_birth()\n",
    "    \n",
    "    try:\n",
    "        latitude, longitude = geocode_location(city, country)\n",
    "    except Exception as e:\n",
    "        print(f\"Error geocoding location: {e}\")\n",
    "        return None\n",
    "    \n",
    "    try:\n",
    "        all_responses = get_all_response_objects(latitude, longitude, birthday)\n",
    "    except Exception as e:\n",
    "        print(f\"Error fetching data: {e}\")\n",
    "        return None\n",
    "    \n",
    "    try:\n",
    "        summary_df = parse_json_response(all_responses)\n",
    "    except Exception as e:\n",
    "        print(f\"Error parsing data: {e}\")\n",
    "        return None\n",
    "\n",
    "    return summary_df\n"
   ]
  },
  {
   "cell_type": "markdown",
   "id": "caebdcff",
   "metadata": {
    "id": "caebdcff"
   },
   "source": [
    "Run your function and set it equal to `df`:"
   ]
  },
  {
   "cell_type": "code",
   "execution_count": null,
   "id": "e430b5df",
   "metadata": {
    "ExecuteTime": {
     "end_time": "2023-02-28T00:37:57.411326Z",
     "start_time": "2023-02-28T00:37:56.840425Z"
    },
    "id": "e430b5df",
    "scrolled": true
   },
   "outputs": [],
   "source": [
    "summary_df = get_data()\n",
    "\n",
    "if summary_df is not None:\n",
    "    print(\"Summary of Weather Measurements:\")\n",
    "    print(summary_df)"
   ]
  },
  {
   "cell_type": "markdown",
   "id": "242a871e",
   "metadata": {
    "id": "242a871e"
   },
   "source": [
    "## Question 3: Visualizing The Data\n",
    "Plot the DataFrame using `matplotlib`/`seaborn` and write a short summary of your results."
   ]
  },
  {
   "cell_type": "code",
   "execution_count": null,
   "id": "43e099dd",
   "metadata": {
    "ExecuteTime": {
     "end_time": "2023-02-28T00:38:07.414648Z",
     "start_time": "2023-02-28T00:38:07.408238Z"
    },
    "id": "43e099dd"
   },
   "outputs": [],
   "source": [
    "def visualize_data(df):\n",
    "    sns.set(style = \"whitegrid\")\n",
    "\n",
    "    melted_df = df.melt(var_name = \"Measurement\", value_name = \"Average Value\")\n",
    "\n",
    "    plt.figure(figsize=(10, 6))\n",
    "    sns.barplot(\n",
    "        data = melted_df,\n",
    "        x = \"Measurement\",\n",
    "        y = \"Average Value\",\n",
    "        palette  =\"coolwarm\",\n",
    "    )\n",
    "\n",
    "    plt.xticks(rotation = 45, ha = \"right\")\n",
    "\n",
    "    plt.title(\"15-Day Average Weather Measurements (1960-2022)\", fontsize = 16)\n",
    "    plt.xlabel(\"Measurement\", fontsize = 12)\n",
    "    plt.ylabel(\"Average Value\", fontsize = 12)\n",
    "\n",
    "    plt.tight_layout()\n",
    "    plt.show()\n",
    "\n",
    "if df is not None:\n",
    "    visualize_data(df)\n",
    "else:\n",
    "    print(\"DataFrame is empty. Unable to visualize data.\")\n"
   ]
  },
  {
   "cell_type": "markdown",
   "id": "eb6e5a2a",
   "metadata": {
    "id": "eb6e5a2a"
   },
   "source": [
    "### Results Summary:"
   ]
  },
  {
   "cell_type": "code",
   "execution_count": null,
   "id": "5597b0c9",
   "metadata": {
    "id": "5597b0c9"
   },
   "outputs": [],
   "source": []
  }
 ],
 "metadata": {
  "colab": {
   "provenance": []
  },
  "kernelspec": {
   "display_name": "Python 3 (ipykernel)",
   "language": "python",
   "name": "python3"
  },
  "language_info": {
   "codemirror_mode": {
    "name": "ipython",
    "version": 3
   },
   "file_extension": ".py",
   "mimetype": "text/x-python",
   "name": "python",
   "nbconvert_exporter": "python",
   "pygments_lexer": "ipython3",
   "version": "3.12.4"
  }
 },
 "nbformat": 4,
 "nbformat_minor": 5
}
